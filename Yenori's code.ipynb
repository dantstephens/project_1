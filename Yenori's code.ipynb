{
 "cells": [
  {
   "cell_type": "code",
   "execution_count": null,
   "id": "fd2a477a-3f29-4514-a09a-6d9d1b944ef0",
   "metadata": {},
   "outputs": [
    {
     "name": "stdout",
     "output_type": "stream",
     "text": [
      "Collecting package metadata (current_repodata.json): done\n",
      "Solving environment: done\n",
      "\n",
      "## Package Plan ##\n",
      "\n",
      "  environment location: /Users/yenori/anaconda3/envs/mydev\n",
      "\n",
      "  added / updated specs:\n",
      "    - pandas\n",
      "\n",
      "\n",
      "The following packages will be downloaded:\n",
      "\n",
      "    package                    |            build\n",
      "    ---------------------------|-----------------\n",
      "    blas-1.0                   |              mkl           6 KB\n",
      "    intel-openmp-2023.1.0      |   ha357a0b_43547         635 KB\n",
      "    mkl-2023.1.0               |   h8e150cf_43559       181.0 MB\n",
      "    mkl-service-2.4.0          |  py311h6c40b1e_1          43 KB\n",
      "    mkl_fft-1.3.8              |  py311h6c40b1e_0         204 KB\n",
      "    mkl_random-1.2.4           |  py311ha357a0b_0         272 KB\n",
      "    numexpr-2.8.7              |  py311h728a8a3_0         162 KB\n",
      "    numpy-1.26.0               |  py311h728a8a3_0          11 KB\n",
      "    numpy-base-1.26.0          |  py311h53bf9ac_0         7.8 MB\n",
      "    pandas-2.1.1               |  py311hdb55bb0_0        14.3 MB\n",
      "    ------------------------------------------------------------\n",
      "                                           Total:       204.4 MB\n",
      "\n",
      "The following NEW packages will be INSTALLED:\n",
      "\n",
      "  blas               pkgs/main/osx-64::blas-1.0-mkl \n",
      "  bottleneck         pkgs/main/osx-64::bottleneck-1.3.5-py311hb9e55a9_0 \n",
      "  intel-openmp       pkgs/main/osx-64::intel-openmp-2023.1.0-ha357a0b_43547 \n",
      "  mkl                pkgs/main/osx-64::mkl-2023.1.0-h8e150cf_43559 \n",
      "  mkl-service        pkgs/main/osx-64::mkl-service-2.4.0-py311h6c40b1e_1 \n",
      "  mkl_fft            pkgs/main/osx-64::mkl_fft-1.3.8-py311h6c40b1e_0 \n",
      "  mkl_random         pkgs/main/osx-64::mkl_random-1.2.4-py311ha357a0b_0 \n",
      "  numexpr            pkgs/main/osx-64::numexpr-2.8.7-py311h728a8a3_0 \n",
      "  numpy              pkgs/main/osx-64::numpy-1.26.0-py311h728a8a3_0 \n",
      "  numpy-base         pkgs/main/osx-64::numpy-base-1.26.0-py311h53bf9ac_0 \n",
      "  pandas             pkgs/main/osx-64::pandas-2.1.1-py311hdb55bb0_0 \n",
      "  python-tzdata      pkgs/main/noarch::python-tzdata-2023.3-pyhd3eb1b0_0 \n",
      "  tbb                pkgs/main/osx-64::tbb-2021.8.0-ha357a0b_0 \n",
      "\n",
      "\n",
      "Proceed ([y]/n)? "
     ]
    }
   ],
   "source": [
    "# set up\n",
    "!conda install pandas\n",
    "y"
   ]
  },
  {
   "cell_type": "code",
   "execution_count": null,
   "id": "be6288fd",
   "metadata": {},
   "outputs": [],
   "source": [
    "y"
   ]
  },
  {
   "cell_type": "code",
   "execution_count": null,
   "id": "270d19b3",
   "metadata": {},
   "outputs": [],
   "source": [
    "# import modules\n",
    "import os\n",
    "import pandas as pd"
   ]
  },
  {
   "cell_type": "code",
   "execution_count": null,
   "id": "4a357f47",
   "metadata": {},
   "outputs": [],
   "source": []
  },
  {
   "cell_type": "code",
   "execution_count": null,
   "id": "f022697a",
   "metadata": {},
   "outputs": [],
   "source": []
  }
 ],
 "metadata": {
  "kernelspec": {
   "display_name": "Python 3 (ipykernel)",
   "language": "python",
   "name": "python3"
  },
  "language_info": {
   "codemirror_mode": {
    "name": "ipython",
    "version": 3
   },
   "file_extension": ".py",
   "mimetype": "text/x-python",
   "name": "python",
   "nbconvert_exporter": "python",
   "pygments_lexer": "ipython3",
   "version": "3.11.5"
  }
 },
 "nbformat": 4,
 "nbformat_minor": 5
}
