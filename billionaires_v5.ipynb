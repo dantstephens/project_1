{
 "cells": [
  {
   "cell_type": "code",
   "execution_count": 4,
   "id": "270d19b3",
   "metadata": {},
   "outputs": [
    {
     "name": "stdout",
     "output_type": "stream",
     "text": [
      "Empty DataFrame\n",
      "Columns: [rank, finalWorth, category, personName, age, country, city, source, industries, countryOfCitizenship, organization, selfMade, status(D-Self Made)(U-Inherited/Unearned), gender, birthDate, lastName, firstName, title, date, state, residenceStateRegion, birthYear, birthMonth, birthDay, cpi_country, cpi_change_country, gdp_country, gross_tertiary_education_enrollment, gross_primary_education_enrollment_country, life_expectancy_country, tax_revenue_country_country, total_tax_rate_country, population_country, latitude_country, longitude_country, Marital Status, Children, Education, Bachelor, Master, Doctorate, Drop Out, Self Made]\n",
      "Index: []\n",
      "\n",
      "[0 rows x 43 columns]\n",
      "Empty DataFrame\n",
      "Columns: [rank, finalWorth, category, personName, age, country, city, source, industries, countryOfCitizenship, organization, selfMade, status(D-Self Made)(U-Inherited/Unearned), gender, birthDate, lastName, firstName, title, date, state, residenceStateRegion, birthYear, birthMonth, birthDay, cpi_country, cpi_change_country, gdp_country, gross_tertiary_education_enrollment, gross_primary_education_enrollment_country, life_expectancy_country, tax_revenue_country_country, total_tax_rate_country, population_country, latitude_country, longitude_country, Marital Status, Children, Education, Bachelor, Master, Doctorate, Drop Out, Self Made]\n",
      "Index: []\n",
      "\n",
      "[0 rows x 43 columns]\n"
     ]
    }
   ],
   "source": [
    "# import modules\n",
    "import os\n",
    "import pandas as pd\n",
    "import numpy as np\n",
    "\n",
    "# Set the file path and read the csv\n",
    "final_billions = \"/Users/yenori/Desktop/GitHub/project-1/Final_Billionaires_Statistics.csv\"\n",
    "billions_csv = pd.read_csv(final_billions)\n",
    "\n",
    "# print the headers of the columns\n",
    "print (billions_csv.head(0))"
   ]
  },
  {
   "cell_type": "code",
   "execution_count": 17,
   "id": "f0dc3460",
   "metadata": {},
   "outputs": [
    {
     "data": {
      "text/html": [
       "<div>\n",
       "<style scoped>\n",
       "    .dataframe tbody tr th:only-of-type {\n",
       "        vertical-align: middle;\n",
       "    }\n",
       "\n",
       "    .dataframe tbody tr th {\n",
       "        vertical-align: top;\n",
       "    }\n",
       "\n",
       "    .dataframe thead th {\n",
       "        text-align: right;\n",
       "    }\n",
       "</style>\n",
       "<table border=\"1\" class=\"dataframe\">\n",
       "  <thead>\n",
       "    <tr style=\"text-align: right;\">\n",
       "      <th></th>\n",
       "      <th>rank</th>\n",
       "      <th>personName</th>\n",
       "      <th>Education</th>\n",
       "      <th>Education Level</th>\n",
       "    </tr>\n",
       "  </thead>\n",
       "  <tbody>\n",
       "    <tr>\n",
       "      <th>10</th>\n",
       "      <td>11</td>\n",
       "      <td>Francoise Bettencourt Meyers &amp; family</td>\n",
       "      <td>NaN</td>\n",
       "      <td>Other</td>\n",
       "    </tr>\n",
       "    <tr>\n",
       "      <th>12</th>\n",
       "      <td>13</td>\n",
       "      <td>Amancio Ortega</td>\n",
       "      <td>NaN</td>\n",
       "      <td>Other</td>\n",
       "    </tr>\n",
       "    <tr>\n",
       "      <th>14</th>\n",
       "      <td>15</td>\n",
       "      <td>Zhong Shanshan</td>\n",
       "      <td>NaN</td>\n",
       "      <td>Other</td>\n",
       "    </tr>\n",
       "    <tr>\n",
       "      <th>23</th>\n",
       "      <td>24</td>\n",
       "      <td>Gautam Adani</td>\n",
       "      <td>NaN</td>\n",
       "      <td>Other</td>\n",
       "    </tr>\n",
       "    <tr>\n",
       "      <th>26</th>\n",
       "      <td>27</td>\n",
       "      <td>Dieter Schwarz</td>\n",
       "      <td>NaN</td>\n",
       "      <td>Other</td>\n",
       "    </tr>\n",
       "    <tr>\n",
       "      <th>...</th>\n",
       "      <td>...</td>\n",
       "      <td>...</td>\n",
       "      <td>...</td>\n",
       "      <td>...</td>\n",
       "    </tr>\n",
       "    <tr>\n",
       "      <th>2633</th>\n",
       "      <td>2634</td>\n",
       "      <td>Yan Junxu</td>\n",
       "      <td>NaN</td>\n",
       "      <td>Other</td>\n",
       "    </tr>\n",
       "    <tr>\n",
       "      <th>2634</th>\n",
       "      <td>2635</td>\n",
       "      <td>Yi Xianzhong &amp; family</td>\n",
       "      <td>NaN</td>\n",
       "      <td>Other</td>\n",
       "    </tr>\n",
       "    <tr>\n",
       "      <th>2635</th>\n",
       "      <td>2636</td>\n",
       "      <td>Yu Rong</td>\n",
       "      <td>NaN</td>\n",
       "      <td>Other</td>\n",
       "    </tr>\n",
       "    <tr>\n",
       "      <th>2637</th>\n",
       "      <td>2638</td>\n",
       "      <td>Zhang Gongyun</td>\n",
       "      <td>NaN</td>\n",
       "      <td>Other</td>\n",
       "    </tr>\n",
       "    <tr>\n",
       "      <th>2639</th>\n",
       "      <td>2640</td>\n",
       "      <td>Inigo Zobel</td>\n",
       "      <td>NaN</td>\n",
       "      <td>Other</td>\n",
       "    </tr>\n",
       "  </tbody>\n",
       "</table>\n",
       "<p>1229 rows × 4 columns</p>\n",
       "</div>"
      ],
      "text/plain": [
       "      rank                             personName Education Education Level\n",
       "10      11  Francoise Bettencourt Meyers & family       NaN           Other\n",
       "12      13                         Amancio Ortega       NaN           Other\n",
       "14      15                         Zhong Shanshan       NaN           Other\n",
       "23      24                           Gautam Adani       NaN           Other\n",
       "26      27                         Dieter Schwarz       NaN           Other\n",
       "...    ...                                    ...       ...             ...\n",
       "2633  2634                              Yan Junxu       NaN           Other\n",
       "2634  2635                  Yi Xianzhong & family       NaN           Other\n",
       "2635  2636                                Yu Rong       NaN           Other\n",
       "2637  2638                          Zhang Gongyun       NaN           Other\n",
       "2639  2640                            Inigo Zobel       NaN           Other\n",
       "\n",
       "[1229 rows x 4 columns]"
      ]
     },
     "metadata": {},
     "output_type": "display_data"
    }
   ],
   "source": [
    "# Sort the values into Null, Drop out, High School, and University Degrees\n",
    "def categorize_education(education):\n",
    "    if pd.isna(education) or education.strip() == \"\":\n",
    "        return 'Other'\n",
    "    if 'Drop Out' in education:\n",
    "        return 'Dropped Out'\n",
    "    elif 'High School' in education:\n",
    "        return 'High School diploma'\n",
    "    elif 'error' in education:\n",
    "        return 'Other'\n",
    "    else:\n",
    "        return 'College/University Degree'\n",
    "\n",
    "# Then, create a new 'Education Level' column that categorizes the previous Education column\n",
    "billions_csv['Education Level'] = billions_csv['Education'].apply(categorize_education)"
   ]
  },
  {
   "cell_type": "code",
   "execution_count": 18,
   "id": "14e4b65b",
   "metadata": {},
   "outputs": [
    {
     "data": {
      "image/png": "[encoded data removed]",
      "text/plain": [
       "<Figure size 640x480 with 1 Axes>"
      ]
     },
     "metadata": {},
     "output_type": "display_data"
    },
    {
     "data": {
      "text/plain": [
       "Education Level\n",
       "College/University Degree    1291\n",
       "Other                        1229\n",
       "Dropped Out                    85\n",
       "High School diploma            35\n",
       "Name: count, dtype: int64"
      ]
     },
     "metadata": {},
     "output_type": "display_data"
    }
   ],
   "source": [
    "# Create a new pie chart with the Education Level column\n",
    "import matplotlib.pyplot as plt\n",
    "%matplotlib inline\n",
    "\n",
    "# Count each value in the Education Level column\n",
    "education_counts = billions_csv['Education Level'].value_counts()\n",
    "\n",
    "# Use the counts to make a pie chart that shows the ratio of all the categories\n",
    "plt.pie(education_counts, labels=education_counts.index, autopct='%1.1f%%')\n",
    "plt.title('Education Level Distribution of Billionaires')\n",
    "plt.axis('equal')\n",
    "plt.show()\n",
    "display(education_counts)"
   ]
  },
  {
   "cell_type": "code",
   "execution_count": null,
   "id": "d1bd915c",
   "metadata": {},
   "outputs": [],
   "source": []
  }
 ],
 "metadata": {
  "kernelspec": {
   "display_name": "Python 3 (ipykernel)",
   "language": "python",
   "name": "python3"
  },
  "language_info": {
   "codemirror_mode": {
    "name": "ipython",
    "version": 3
   },
   "file_extension": ".py",
   "mimetype": "text/x-python",
   "name": "python",
   "nbconvert_exporter": "python",
   "pygments_lexer": "ipython3",
   "version": "3.11.5"
  }
 },
 "nbformat": 4,
 "nbformat_minor": 5
}
